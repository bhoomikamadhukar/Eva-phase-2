{
  "nbformat": 4,
  "nbformat_minor": 0,
  "metadata": {
    "colab": {
      "name": "t3d.ipynb",
      "provenance": []
    },
    "kernelspec": {
      "name": "python3",
      "display_name": "Python 3"
    }
  },
  "cells": [
    {
      "cell_type": "code",
      "metadata": {
        "id": "Ls4Pfvg1eCUr",
        "colab_type": "code",
        "outputId": "b726542e-1a09-4b28-c6f1-82a12d812c78",
        "colab": {
          "base_uri": "https://localhost:8080/",
          "height": 128
        }
      },
      "source": [
        "!pip install pybullet"
      ],
      "execution_count": 0,
      "outputs": [
        {
          "output_type": "stream",
          "text": [
            "Collecting pybullet\n",
            "\u001b[?25l  Downloading https://files.pythonhosted.org/packages/d8/ac/a422ab8d1c57ab3f43e573b5a5f532e6afd348d81308fe66a1ecb691548e/pybullet-2.7.1-cp36-cp36m-manylinux1_x86_64.whl (95.0MB)\n",
            "\u001b[K     |████████████████████████████████| 95.0MB 55kB/s \n",
            "\u001b[?25hInstalling collected packages: pybullet\n",
            "Successfully installed pybullet-2.7.1\n"
          ],
          "name": "stdout"
        }
      ]
    },
    {
      "cell_type": "code",
      "metadata": {
        "id": "E3xrwYembTAU",
        "colab_type": "code",
        "colab": {}
      },
      "source": [
        "import os\n",
        "import math \n",
        "import numpy as np\n",
        "import matplotlib.pyplot as plt\n",
        "import torch\n",
        "import gym\n",
        "import pybullet_envs\n",
        "import torch.nn as nn\n",
        "from gym import wrappers\n",
        "import torch.nn.functional as F\n",
        "from collections import deque\n",
        "from torch.autograd import Variable"
      ],
      "execution_count": 0,
      "outputs": []
    },
    {
      "cell_type": "markdown",
      "metadata": {
        "id": "34ToooBqEY9V",
        "colab_type": "text"
      },
      "source": [
        "## Step 1"
      ]
    },
    {
      "cell_type": "code",
      "metadata": {
        "id": "tXgDYV4Jb3ip",
        "colab_type": "code",
        "colab": {}
      },
      "source": [
        "class ReplayBuffer(object):\n",
        "  def __init__(self,max_size=1e6):\n",
        "    self.storage=[]\n",
        "    self.max_size=max_size\n",
        "    self.ptr=0\n",
        "\n",
        "  def add(self,transition):\n",
        "    if len(self.storage)== self.max_size:\n",
        "      self.storage[int(self.ptr)]=transition\n",
        "      self.ptr=(self.ptr+1) % self.max_size\n",
        "    else:\n",
        "      self.storage.append(transition)  \n",
        "  \n",
        "  def sample(self,batch_size):\n",
        "    ind=np.random.randint(0,len(self.storage),batch_size)\n",
        "    batch_state,batch_next_state,batch_action,batch_reward,batch_dones=[],[],[],[],[]\n",
        "    for i in ind:\n",
        "      state,next_state,action,reward,done=self.storage[i]\n",
        "      batch_state.append(np.array(state,copy=False))\n",
        "      batch_next_state.append(np.append(next_state,copy=False))\n",
        "      batch_action.append(np.append(action,copy=False))\n",
        "      batch_reward.append(np.append(reward,copy=False))\n",
        "      batch_dones.append(np.append(done,copy=False))\n",
        "    return np.array(batch_state),np.array(batch_next_state),np.array(batch_action),np.array(batch_reward).reshape(-1,1),np.array(batch_dones).reshape(-1,1)\n",
        "\n"
      ],
      "execution_count": 0,
      "outputs": []
    },
    {
      "cell_type": "markdown",
      "metadata": {
        "id": "3DxmxOh-EiHZ",
        "colab_type": "text"
      },
      "source": [
        "## Step 2"
      ]
    },
    {
      "cell_type": "code",
      "metadata": {
        "id": "I_IZh8q4jTs8",
        "colab_type": "code",
        "colab": {}
      },
      "source": [
        "class Actor(nn.Module):\n",
        "  def __init__(self,state_dims,action_dims,max_action):\n",
        "    super(Actor,self).__init__()\n",
        "    self.layer1=nn.Linear(state_dims,400)\n",
        "    self.layer2=nn.Linear(400,300)\n",
        "    self.layer3=nn.Linear(300,action_dims)\n",
        "    self.max_action=max_action\n",
        "\n",
        "  def forward(self,x):\n",
        "    x=F.relu(self.layer1(x))\n",
        "    x=F.relu(self.layer2(x))\n",
        "    x=self.max_action*torch.tanh(self.layer3(x))\n",
        "    return x"
      ],
      "execution_count": 0,
      "outputs": []
    },
    {
      "cell_type": "markdown",
      "metadata": {
        "id": "4J-O97ffEkmR",
        "colab_type": "text"
      },
      "source": [
        "## Step 3"
      ]
    },
    {
      "cell_type": "code",
      "metadata": {
        "id": "UijkgNgklnhV",
        "colab_type": "code",
        "colab": {}
      },
      "source": [
        "class Critic(nn.Module):\n",
        "  def __init__(self,state_dims,action_dims):\n",
        "    super(Critic,self).__init__()\n",
        "    self.layer1=nn.Linear(state_dims+action_dims,400)\n",
        "    self.layer2=nn.Linear(400,300)\n",
        "    self.layer3=nn.Linear(300,action_dims)\n",
        "\n",
        "    self.layer4=nn.Linear(state_dims+action_dims,400)\n",
        "    self.layer5=nn.Linear(400,300)\n",
        "    self.layer6=nn.Linear(300,action_dims)\n",
        "\n",
        "  def forward(self,x,u):\n",
        "    xu=torch.cat([x,u],1)\n",
        "\n",
        "    xu=F.relu(self.layer1(xu))\n",
        "    x1=F.relu(self.layer2(x1))\n",
        "    x1=self.layer3(x1)\n",
        "\n",
        "    x2=F.relu(self.layer4(xu))\n",
        "    x2=F.relu(self.layer5(x2))\n",
        "    x2=self.layer6(x2)\n",
        "    return x1,x2\n",
        "\n",
        "  def Q1(self,x,u):\n",
        "    xu=torch.cat([x,u],1)\n",
        "\n",
        "    xu=F.relu(self.layer1(xu))\n",
        "    x1=F.relu(self.layer2(x1))\n",
        "    x1=self.layer3(x1)\n",
        "    return x1"
      ],
      "execution_count": 0,
      "outputs": []
    },
    {
      "cell_type": "code",
      "metadata": {
        "id": "-dLeapzd3flQ",
        "colab_type": "code",
        "colab": {}
      },
      "source": [
        "\n",
        "device=torch.device('cuda' if torch.cuda.is_available() else 'cpu')\n",
        "class T3D(object):\n",
        "  def __init__(self,state_dims,action_dims,max_action):\n",
        "    self.actor=Actor(state_dims,action_dims,max_action).to(device)\n",
        "    self.actor_target=Actor(state_dims,action_dims,max_action).to(device)\n",
        "    self.actor_target.load_state_dict(self.actor.state_dict)\n",
        "    self.actor.optimizer=torch.optim.Adam(self.actor.parameters())\n",
        "\n",
        "    self.critic=Critic(state_dims,action_dims).to(device)\n",
        "    self.critic_target=Critic(state_dims,action_dims).to(device)\n",
        "    self.critic_target.load_state_dict(self.critic.state_dict)\n",
        "    self.critic.optimizer=torch.optim.Adam(self.critic.parameters())\n",
        "    self.max_action=max_action\n",
        "\n",
        "  def select_action(self,state):\n",
        "    state=torch.Tensor(state.reshape(1,-1)).to(device)\n",
        "    return self.actor(state).cpu().data.numpy().flatten()\n",
        "\n",
        "#STEP 4\n",
        "  def train(self,replay_buffer,iterations,batch_size=100,discount=0.99,tau=0.005,policy_noise=0.2,noise_clip=0.5,policy_freq=2):\n",
        "    for it in range(iterations):\n",
        "      batch_state,batch_next_state,batch_action,batch_reward,batch_dones=replay_buffer.sample(batch_size)\n",
        "      state=torch.Tensor(batch_state).to(device)\n",
        "      next_state=torch.Tensor(batch_next_state).to(device)\n",
        "      action=torch.Tensor(batch_action).to(device)\n",
        "      reward=torch.Tensor(batch_reward).to(device)\n",
        "      done=torch.Tensor(batch_dones).to(device)\n",
        "#STEP 5\n",
        "    next_action=self.actor_target.forward(next_state)\n",
        "\n",
        "#STEP 6\n",
        "\n",
        "    noise=torch.Tensor(batch_action).data.normal_(0,policy_noise).to(device)\n",
        "    noise=noise.clamp(-noise_clip,noise_clip)\n",
        "    next_action=(next_action+noise).clamp(-self.max_action,self.max_action)\n",
        "\n",
        "#STEP 7\n",
        "    target_Q1, target_Q2 = self.critic_target(next_state, next_action)\n",
        "#STEP 8\n",
        "\n",
        "    target_Q = torch.min(target_Q1, target_Q2)\n",
        "#STEP 9\n",
        "\n",
        "    target_Q = reward + ((1-done) *discount * target_Q).detach()\n",
        "\n",
        "# STEP 10\n",
        "    current_Q1, current_Q2 = self.critic(state, action)\n",
        "\n",
        "# STEP 11\n",
        "    critic_loss = F.mse_loss(current_Q1, target_Q) + F.mse_loss(current_Q2, target_Q)\n",
        "\n",
        "# STEP 12\n",
        "    self.critic_optimizer.zero_grad()\n",
        "    critic_loss.backward()\n",
        "    self.critic_optimizer.step()\n",
        "# STEP 13\n",
        "\n",
        "    if it % policy_freq==0:\n",
        "      actor_loss = -self.critic.Q1(state, self.actor(state)).mean()\n",
        "      self.actor_optimizer.zero_grad()\n",
        "      actor_loss.backward()\n",
        "      self.actor_optimizer.step()\n",
        "#STEP 14\n",
        "   for param, target_param in zip(self.actor.parameters(), self.actor_target.parameters()):\n",
        "\t\t\ttarget_param.data.copy_(tau * param.data + (1 - tau) * target_param.data)\n",
        "# STEP 15\n",
        "   for param, target_param in zip(self.critic.parameters(), self.critic_target.parameters()):\n",
        "\t\t\ttarget_param.data.copy_(tau * param.data + (1 - tau) * target_param.data)\n"
      ],
      "execution_count": 0,
      "outputs": []
    },
    {
      "cell_type": "code",
      "metadata": {
        "id": "ExU5ABXz6txR",
        "colab_type": "code",
        "colab": {}
      },
      "source": [
        "\n"
      ],
      "execution_count": 0,
      "outputs": []
    },
    {
      "cell_type": "code",
      "metadata": {
        "id": "bJ56fHQVAiCU",
        "colab_type": "code",
        "colab": {}
      },
      "source": [
        ""
      ],
      "execution_count": 0,
      "outputs": []
    }
  ]
}